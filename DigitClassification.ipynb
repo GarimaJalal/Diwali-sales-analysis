{
  "nbformat": 4,
  "nbformat_minor": 0,
  "metadata": {
    "colab": {
      "provenance": [],
      "toc_visible": true,
      "authorship_tag": "ABX9TyMTTGuoJhr6ca94EQPksfYv",
      "include_colab_link": true
    },
    "kernelspec": {
      "name": "python3",
      "display_name": "Python 3"
    },
    "language_info": {
      "name": "python"
    }
  },
  "cells": [
    {
      "cell_type": "markdown",
      "metadata": {
        "id": "view-in-github",
        "colab_type": "text"
      },
      "source": [
        "<a href=\"https://colab.research.google.com/github/GarimaJalal/Diwali-sales-analysis/blob/main/DigitClassification.ipynb\" target=\"_parent\"><img src=\"https://colab.research.google.com/assets/colab-badge.svg\" alt=\"Open In Colab\"/></a>"
      ]
    },
    {
      "cell_type": "code",
      "execution_count": null,
      "metadata": {
        "colab": {
          "base_uri": "https://localhost:8080/"
        },
        "id": "7NQavNwkutX0",
        "outputId": "c94360cc-d40c-4442-8c94-2b2b1be2c52d"
      },
      "outputs": [
        {
          "output_type": "stream",
          "name": "stdout",
          "text": [
            "Downloading data from https://storage.googleapis.com/tensorflow/tf-keras-datasets/mnist.npz\n",
            "11490434/11490434 [==============================] - 0s 0us/step\n"
          ]
        },
        {
          "output_type": "execute_result",
          "data": {
            "text/plain": [
              "(60000, 28, 28)"
            ]
          },
          "metadata": {},
          "execution_count": 1
        }
      ],
      "source": [
        "#import the libraries and load the datatset\n",
        "import tensorflow as tf\n",
        "(x_train,y_train),(x_test,y_test)=tf.keras.datasets.mnist.load_data() #load mnist\n",
        "x_train.shape\n",
        "#it is a tuple of integers that describe how many dimensions the tensor has along each axis. In the Numpy library this attribute is called shape\n",
        "#here 28 means 28 pixels"
      ]
    },
    {
      "cell_type": "code",
      "source": [
        "import matplotlib.pyplot as plt\n",
        "%matplotlib inline\n",
        "fig,axis=plt.subplots(3,4, figsize=(7,7))#set axis of the fig and how many fig to be shown\n",
        "plt.gray()#set color map to gray\n",
        "for i, ax in enumerate(axis.flat):\n",
        "  ax.matshow(x_train[i])\n",
        "  ax.axis('off')#turn axis off\n",
        "  ax.set_title('Number{}'.format(y_train[i]))#set title for axis\n",
        "fig.show()#display figure window"
      ],
      "metadata": {
        "colab": {
          "base_uri": "https://localhost:8080/",
          "height": 581
        },
        "id": "UWmmVrbsu6tq",
        "outputId": "8c4f8199-8604-4907-e037-c309c0c2be33"
      },
      "execution_count": null,
      "outputs": [
        {
          "output_type": "display_data",
          "data": {
            "text/plain": [
              "<Figure size 700x700 with 12 Axes>"
            ],
            "image/png": "[encoded data removed]"
          },
          "metadata": {}
        }
      ]
    },
    {
      "cell_type": "code",
      "source": [
        "x_train=x_train.reshape(x_train.shape[0],28,28,1)\n",
        "#The numpy.reshape() function shapes an array without changing the data of the array.\n",
        "x_test=x_test.reshape(x_test.shape[0],28,28,1)\n",
        "input_shape=(28,28,1)"
      ],
      "metadata": {
        "id": "r3AgP49M2rBl"
      },
      "execution_count": null,
      "outputs": []
    },
    {
      "cell_type": "code",
      "source": [
        "x_train=x_train.astype('float32')\n",
        "x_test=x_test.astype('float32')\n",
        "x_train/=255\n",
        "x_test/=255\n",
        "#to make it come between 0 to 1 range to make the whole process easy\n",
        "print('x_train shape:', x_train.shape)\n",
        "print('number of images in x_train:', x_train.shape[0])\n",
        "print('number of images in x_test:', x_test.shape[0])"
      ],
      "metadata": {
        "colab": {
          "base_uri": "https://localhost:8080/"
        },
        "id": "SpjfZdJg2u4i",
        "outputId": "fc007b03-c2dd-41cc-8609-63abe83fd73a"
      },
      "execution_count": null,
      "outputs": [
        {
          "output_type": "stream",
          "name": "stdout",
          "text": [
            "x_train shape: (60000, 28, 28, 1)\n",
            "number of images in x_train: 60000\n",
            "number of images in x_test: 10000\n"
          ]
        }
      ]
    },
    {
      "cell_type": "code",
      "source": [
        "from tensorflow.keras.models import Sequential\n",
        "from tensorflow.keras.layers import Dense, Conv2D, Dropout, Flatten,MaxPooling2D\n",
        "model=Sequential()\n",
        "model.add(Conv2D(28, kernel_size=(3,3), input_shape=input_shape))\n",
        "#Conv2D is used since we will be using 2Dinput images\n",
        "#28 is number of filters based on accuracy\n",
        "#kernel size is the size of the convolution window\n",
        "model.add(MaxPooling2D(pool_size=(2,2)))\n",
        "model.add(Flatten())\n",
        "model.add(Dense(128,activation=tf.nn.relu))\n",
        "#relu is rectified linear it gives input as output when input is positive and 0 when input is negative\n",
        "model.add(Dropout(0.2))\n",
        "model.add(Dense(10,activation=tf.nn.softmax))"
      ],
      "metadata": {
        "id": "00IH_TiW20d-"
      },
      "execution_count": null,
      "outputs": []
    },
    {
      "cell_type": "code",
      "source": [
        "model.compile(optimizer='adam',\n",
        "              loss='sparse_categorical_crossentropy',\n",
        "              metrics=['accuracy'])\n",
        "model.fit(x=x_train,y=y_train, epochs=2)"
      ],
      "metadata": {
        "colab": {
          "base_uri": "https://localhost:8080/"
        },
        "id": "OpTI0R_z24E9",
        "outputId": "1835abf7-2e5f-41ba-d339-c46242c010c8"
      },
      "execution_count": null,
      "outputs": [
        {
          "output_type": "stream",
          "name": "stdout",
          "text": [
            "Epoch 1/2\n",
            "1875/1875 [==============================] - 46s 24ms/step - loss: 0.2009 - accuracy: 0.9396\n",
            "Epoch 2/2\n",
            "1875/1875 [==============================] - 44s 24ms/step - loss: 0.0812 - accuracy: 0.9749\n"
          ]
        },
        {
          "output_type": "execute_result",
          "data": {
            "text/plain": [
              "<keras.src.callbacks.History at 0x783e44417c10>"
            ]
          },
          "metadata": {},
          "execution_count": 6
        }
      ]
    },
    {
      "cell_type": "code",
      "source": [
        "model.evaluate(x_test, y_test)"
      ],
      "metadata": {
        "colab": {
          "base_uri": "https://localhost:8080/"
        },
        "id": "AehbIQ4_27Gp",
        "outputId": "ec75e427-12cf-4738-c7bd-519b7a56a34b"
      },
      "execution_count": null,
      "outputs": [
        {
          "output_type": "stream",
          "name": "stdout",
          "text": [
            "313/313 [==============================] - 2s 7ms/step - loss: 0.0625 - accuracy: 0.9798\n"
          ]
        },
        {
          "output_type": "execute_result",
          "data": {
            "text/plain": [
              "[0.0625004693865776, 0.9797999858856201]"
            ]
          },
          "metadata": {},
          "execution_count": 7
        }
      ]
    },
    {
      "cell_type": "code",
      "source": [
        "#import the libraries and load the datatset\n",
        "import tensorflow as tf\n",
        "(x_train,y_train),(x_test,y_test)=tf.keras.datasets.mnist.load_data() #load mnist\n",
        "x_train.shape\n",
        "#it is a tuple of integers that describe how many dimensions the tensor has along each axis. In the Numpy library this attribute is called shape\n",
        "#here 28 means 28 pixels\n",
        "import matplotlib.pyplot as plt\n",
        "%matplotlib inline\n",
        "fig,axis=plt.subplots(3,4, figsize=(7,7))#set axis of the fig and how many fig to be shown\n",
        "plt.gray()#set color map to gray\n",
        "for i, ax in enumerate(axis.flat):\n",
        "  ax.matshow(x_train[i])\n",
        "  ax.axis('off')#turn axis off\n",
        "  ax.set_title('Number{}'.format(y_train[i]))#set title for axis\n",
        "fig.show()#display figure window\n",
        "x_train=x_train.reshape(x_train.shape[0],28,28,1)\n",
        "#The numpy.reshape() function shapes an array without changing the data of the array.\n",
        "x_test=x_test.reshape(x_test.shape[0],28,28,1)\n",
        "input_shape=(28,28,1)\n",
        "x_train=x_train.astype('float32')\n",
        "x_test=x_test.astype('float32')\n",
        "x_train/=255\n",
        "x_test/=255\n",
        "#to make it come between 0 to 1 range to make the whole process easy\n",
        "print('x_train shape:', x_train.shape)\n",
        "print('number of images in x_train:', x_train.shape[0])\n",
        "print('number of images in x_test:', x_test.shape[0])\n",
        "from tensorflow.keras.models import Sequential\n",
        "from tensorflow.keras.layers import Dense, Conv2D, Dropout, Flatten,MaxPooling2D\n",
        "model=Sequential()\n",
        "model.add(Conv2D(28, kernel_size=(3,3), input_shape=input_shape))\n",
        "#Conv2D is used since we will be using 2Dinput images\n",
        "#28 is number of filters based on accuracy\n",
        "#kernel size is the size of the convolution window\n",
        "model.add(MaxPooling2D(pool_size=(2,2)))\n",
        "model.add(Flatten())\n",
        "model.add(Dense(128,activation=tf.nn.relu))\n",
        "#relu is rectified linear it gives input as output when input is positive and 0 when input is negative\n",
        "model.add(Dropout(0.2))\n",
        "model.add(Dense(10,activation=tf.nn.softmax))\n",
        "model.compile(optimizer='adam',\n",
        "              loss='sparse_categorical_crossentropy',\n",
        "              metrics=['accuracy'])\n",
        "model.fit(x=x_train,y=y_train, epochs=2)\n",
        "model.evaluate(x_test, y_test)"
      ],
      "metadata": {
        "colab": {
          "base_uri": "https://localhost:8080/",
          "height": 737
        },
        "id": "vetj9oBN29uy",
        "outputId": "82ff33c3-95e6-4dcb-a5aa-1467d41c51aa"
      },
      "execution_count": null,
      "outputs": [
        {
          "output_type": "stream",
          "name": "stdout",
          "text": [
            "x_train shape: (60000, 28, 28, 1)\n",
            "number of images in x_train: 60000\n",
            "number of images in x_test: 10000\n",
            "Epoch 1/2\n",
            "1875/1875 [==============================] - 42s 22ms/step - loss: 0.2017 - accuracy: 0.9391\n",
            "Epoch 2/2\n",
            "1875/1875 [==============================] - 41s 22ms/step - loss: 0.0805 - accuracy: 0.9751\n",
            "313/313 [==============================] - 3s 10ms/step - loss: 0.0589 - accuracy: 0.9807\n"
          ]
        },
        {
          "output_type": "execute_result",
          "data": {
            "text/plain": [
              "[0.05893004685640335, 0.9807000160217285]"
            ]
          },
          "metadata": {},
          "execution_count": 8
        },
        {
          "output_type": "display_data",
          "data": {
            "text/plain": [
              "<Figure size 700x700 with 12 Axes>"
            ],
            "image/png": "[encoded data removed]"
          },
          "metadata": {}
        }
      ]
    }
  ]
}